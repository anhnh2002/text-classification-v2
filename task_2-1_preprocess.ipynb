{
 "cells": [
  {
   "cell_type": "markdown",
   "metadata": {},
   "source": [
    "# Preprocess"
   ]
  },
  {
   "cell_type": "markdown",
   "metadata": {},
   "source": [
    "## Load data"
   ]
  },
  {
   "cell_type": "code",
   "execution_count": 1,
   "metadata": {},
   "outputs": [],
   "source": [
    "import pandas as pd"
   ]
  },
  {
   "cell_type": "code",
   "execution_count": 2,
   "metadata": {},
   "outputs": [
    {
     "data": {
      "text/html": [
       "<div>\n",
       "<style scoped>\n",
       "    .dataframe tbody tr th:only-of-type {\n",
       "        vertical-align: middle;\n",
       "    }\n",
       "\n",
       "    .dataframe tbody tr th {\n",
       "        vertical-align: top;\n",
       "    }\n",
       "\n",
       "    .dataframe thead th {\n",
       "        text-align: right;\n",
       "    }\n",
       "</style>\n",
       "<table border=\"1\" class=\"dataframe\">\n",
       "  <thead>\n",
       "    <tr style=\"text-align: right;\">\n",
       "      <th></th>\n",
       "      <th>TITLE</th>\n",
       "      <th>URL</th>\n",
       "      <th>PUBLISHER</th>\n",
       "      <th>CATEGORY</th>\n",
       "      <th>STORY</th>\n",
       "      <th>HOSTNAME</th>\n",
       "      <th>TIMESTAMP</th>\n",
       "    </tr>\n",
       "    <tr>\n",
       "      <th>ID</th>\n",
       "      <th></th>\n",
       "      <th></th>\n",
       "      <th></th>\n",
       "      <th></th>\n",
       "      <th></th>\n",
       "      <th></th>\n",
       "      <th></th>\n",
       "    </tr>\n",
       "  </thead>\n",
       "  <tbody>\n",
       "    <tr>\n",
       "      <th>1</th>\n",
       "      <td>Fed official says weak data caused by weather,...</td>\n",
       "      <td>http://www.latimes.com/business/money/la-fi-mo...</td>\n",
       "      <td>Los Angeles Times</td>\n",
       "      <td>b</td>\n",
       "      <td>ddUyU0VZz0BRneMioxUPQVP6sIxvM</td>\n",
       "      <td>www.latimes.com</td>\n",
       "      <td>1394470370698\\n</td>\n",
       "    </tr>\n",
       "    <tr>\n",
       "      <th>2</th>\n",
       "      <td>Fed's Charles Plosser sees high bar for change...</td>\n",
       "      <td>http://www.livemint.com/Politics/H2EvwJSK2VE6O...</td>\n",
       "      <td>Livemint</td>\n",
       "      <td>b</td>\n",
       "      <td>ddUyU0VZz0BRneMioxUPQVP6sIxvM</td>\n",
       "      <td>www.livemint.com</td>\n",
       "      <td>1394470371207\\n</td>\n",
       "    </tr>\n",
       "    <tr>\n",
       "      <th>3</th>\n",
       "      <td>US open: Stocks fall after Fed official hints ...</td>\n",
       "      <td>http://www.ifamagazine.com/news/us-open-stocks...</td>\n",
       "      <td>IFA Magazine</td>\n",
       "      <td>b</td>\n",
       "      <td>ddUyU0VZz0BRneMioxUPQVP6sIxvM</td>\n",
       "      <td>www.ifamagazine.com</td>\n",
       "      <td>1394470371550\\n</td>\n",
       "    </tr>\n",
       "    <tr>\n",
       "      <th>4</th>\n",
       "      <td>Fed risks falling 'behind the curve', Charles ...</td>\n",
       "      <td>http://www.ifamagazine.com/news/fed-risks-fall...</td>\n",
       "      <td>IFA Magazine</td>\n",
       "      <td>b</td>\n",
       "      <td>ddUyU0VZz0BRneMioxUPQVP6sIxvM</td>\n",
       "      <td>www.ifamagazine.com</td>\n",
       "      <td>1394470371793\\n</td>\n",
       "    </tr>\n",
       "    <tr>\n",
       "      <th>5</th>\n",
       "      <td>Fed's Plosser: Nasty Weather Has Curbed Job Gr...</td>\n",
       "      <td>http://www.moneynews.com/Economy/federal-reser...</td>\n",
       "      <td>Moneynews</td>\n",
       "      <td>b</td>\n",
       "      <td>ddUyU0VZz0BRneMioxUPQVP6sIxvM</td>\n",
       "      <td>www.moneynews.com</td>\n",
       "      <td>1394470372027\\n</td>\n",
       "    </tr>\n",
       "  </tbody>\n",
       "</table>\n",
       "</div>"
      ],
      "text/plain": [
       "                                                TITLE  \\\n",
       "ID                                                      \n",
       "1   Fed official says weak data caused by weather,...   \n",
       "2   Fed's Charles Plosser sees high bar for change...   \n",
       "3   US open: Stocks fall after Fed official hints ...   \n",
       "4   Fed risks falling 'behind the curve', Charles ...   \n",
       "5   Fed's Plosser: Nasty Weather Has Curbed Job Gr...   \n",
       "\n",
       "                                                  URL          PUBLISHER  \\\n",
       "ID                                                                         \n",
       "1   http://www.latimes.com/business/money/la-fi-mo...  Los Angeles Times   \n",
       "2   http://www.livemint.com/Politics/H2EvwJSK2VE6O...           Livemint   \n",
       "3   http://www.ifamagazine.com/news/us-open-stocks...       IFA Magazine   \n",
       "4   http://www.ifamagazine.com/news/fed-risks-fall...       IFA Magazine   \n",
       "5   http://www.moneynews.com/Economy/federal-reser...          Moneynews   \n",
       "\n",
       "   CATEGORY                          STORY             HOSTNAME  \\\n",
       "ID                                                                \n",
       "1         b  ddUyU0VZz0BRneMioxUPQVP6sIxvM      www.latimes.com   \n",
       "2         b  ddUyU0VZz0BRneMioxUPQVP6sIxvM     www.livemint.com   \n",
       "3         b  ddUyU0VZz0BRneMioxUPQVP6sIxvM  www.ifamagazine.com   \n",
       "4         b  ddUyU0VZz0BRneMioxUPQVP6sIxvM  www.ifamagazine.com   \n",
       "5         b  ddUyU0VZz0BRneMioxUPQVP6sIxvM    www.moneynews.com   \n",
       "\n",
       "          TIMESTAMP  \n",
       "ID                   \n",
       "1   1394470370698\\n  \n",
       "2   1394470371207\\n  \n",
       "3   1394470371550\\n  \n",
       "4   1394470371793\\n  \n",
       "5   1394470372027\\n  "
      ]
     },
     "execution_count": 2,
     "metadata": {},
     "output_type": "execute_result"
    }
   ],
   "source": [
    "with open('data/newsCorpora.csv', 'r') as file:\n",
    "    content = file.readlines()\n",
    "data = [line.split('\\t') for line in content]\n",
    "df = pd.DataFrame(data=data, columns=['ID', 'TITLE', 'URL', 'PUBLISHER', 'CATEGORY', 'STORY', 'HOSTNAME', 'TIMESTAMP'])\n",
    "df.set_index('ID', inplace=True, drop=True)\n",
    "df.head()"
   ]
  },
  {
   "cell_type": "code",
   "execution_count": 3,
   "metadata": {},
   "outputs": [],
   "source": [
    "new_df = df[df['PUBLISHER'].apply(lambda row: True if row in [\"Reuters\", \"Huffington Post\", \"Businessweek\", \"Contactmusic.com\", \"Daily Mail\"] else False)]"
   ]
  },
  {
   "cell_type": "markdown",
   "metadata": {},
   "source": [
    "## Check dup"
   ]
  },
  {
   "cell_type": "code",
   "execution_count": 4,
   "metadata": {},
   "outputs": [
    {
     "data": {
      "text/html": [
       "<div>\n",
       "<style scoped>\n",
       "    .dataframe tbody tr th:only-of-type {\n",
       "        vertical-align: middle;\n",
       "    }\n",
       "\n",
       "    .dataframe tbody tr th {\n",
       "        vertical-align: top;\n",
       "    }\n",
       "\n",
       "    .dataframe thead th {\n",
       "        text-align: right;\n",
       "    }\n",
       "</style>\n",
       "<table border=\"1\" class=\"dataframe\">\n",
       "  <thead>\n",
       "    <tr style=\"text-align: right;\">\n",
       "      <th></th>\n",
       "      <th>TITLE</th>\n",
       "      <th>URL</th>\n",
       "      <th>PUBLISHER</th>\n",
       "      <th>CATEGORY</th>\n",
       "      <th>STORY</th>\n",
       "      <th>HOSTNAME</th>\n",
       "      <th>TIMESTAMP</th>\n",
       "    </tr>\n",
       "  </thead>\n",
       "  <tbody>\n",
       "    <tr>\n",
       "      <th>count</th>\n",
       "      <td>13356</td>\n",
       "      <td>13356</td>\n",
       "      <td>13356</td>\n",
       "      <td>13356</td>\n",
       "      <td>13356</td>\n",
       "      <td>13356</td>\n",
       "      <td>13356</td>\n",
       "    </tr>\n",
       "    <tr>\n",
       "      <th>unique</th>\n",
       "      <td>13104</td>\n",
       "      <td>13356</td>\n",
       "      <td>5</td>\n",
       "      <td>4</td>\n",
       "      <td>4579</td>\n",
       "      <td>6</td>\n",
       "      <td>13356</td>\n",
       "    </tr>\n",
       "    <tr>\n",
       "      <th>top</th>\n",
       "      <td>Deals of the day- Mergers and acquisitions</td>\n",
       "      <td>http://in.reuters.com/article/2014/03/10/eu-ba...</td>\n",
       "      <td>Reuters</td>\n",
       "      <td>b</td>\n",
       "      <td>d_yCfTJxDUFGs_MQrL1DnBRuBd_eM</td>\n",
       "      <td>in.reuters.com</td>\n",
       "      <td>1394470501755\\n</td>\n",
       "    </tr>\n",
       "    <tr>\n",
       "      <th>freq</th>\n",
       "      <td>7</td>\n",
       "      <td>1</td>\n",
       "      <td>3904</td>\n",
       "      <td>5627</td>\n",
       "      <td>31</td>\n",
       "      <td>2558</td>\n",
       "      <td>1</td>\n",
       "    </tr>\n",
       "  </tbody>\n",
       "</table>\n",
       "</div>"
      ],
      "text/plain": [
       "                                             TITLE  \\\n",
       "count                                        13356   \n",
       "unique                                       13104   \n",
       "top     Deals of the day- Mergers and acquisitions   \n",
       "freq                                             7   \n",
       "\n",
       "                                                      URL PUBLISHER CATEGORY  \\\n",
       "count                                               13356     13356    13356   \n",
       "unique                                              13356         5        4   \n",
       "top     http://in.reuters.com/article/2014/03/10/eu-ba...   Reuters        b   \n",
       "freq                                                    1      3904     5627   \n",
       "\n",
       "                                STORY        HOSTNAME        TIMESTAMP  \n",
       "count                           13356           13356            13356  \n",
       "unique                           4579               6            13356  \n",
       "top     d_yCfTJxDUFGs_MQrL1DnBRuBd_eM  in.reuters.com  1394470501755\\n  \n",
       "freq                               31            2558                1  "
      ]
     },
     "execution_count": 4,
     "metadata": {},
     "output_type": "execute_result"
    }
   ],
   "source": [
    "new_df.describe()"
   ]
  },
  {
   "cell_type": "code",
   "execution_count": 5,
   "metadata": {},
   "outputs": [
    {
     "data": {
      "text/html": [
       "<div>\n",
       "<style scoped>\n",
       "    .dataframe tbody tr th:only-of-type {\n",
       "        vertical-align: middle;\n",
       "    }\n",
       "\n",
       "    .dataframe tbody tr th {\n",
       "        vertical-align: top;\n",
       "    }\n",
       "\n",
       "    .dataframe thead th {\n",
       "        text-align: right;\n",
       "    }\n",
       "</style>\n",
       "<table border=\"1\" class=\"dataframe\">\n",
       "  <thead>\n",
       "    <tr style=\"text-align: right;\">\n",
       "      <th></th>\n",
       "      <th>TITLE</th>\n",
       "      <th>URL</th>\n",
       "      <th>PUBLISHER</th>\n",
       "      <th>CATEGORY</th>\n",
       "      <th>STORY</th>\n",
       "      <th>HOSTNAME</th>\n",
       "      <th>TIMESTAMP</th>\n",
       "    </tr>\n",
       "  </thead>\n",
       "  <tbody>\n",
       "    <tr>\n",
       "      <th>count</th>\n",
       "      <td>13113</td>\n",
       "      <td>13113</td>\n",
       "      <td>13113</td>\n",
       "      <td>13113</td>\n",
       "      <td>13113</td>\n",
       "      <td>13113</td>\n",
       "      <td>13113</td>\n",
       "    </tr>\n",
       "    <tr>\n",
       "      <th>unique</th>\n",
       "      <td>13104</td>\n",
       "      <td>13113</td>\n",
       "      <td>5</td>\n",
       "      <td>4</td>\n",
       "      <td>4527</td>\n",
       "      <td>6</td>\n",
       "      <td>13113</td>\n",
       "    </tr>\n",
       "    <tr>\n",
       "      <th>top</th>\n",
       "      <td>From IPO To Rental Boyfriends: Everything You ...</td>\n",
       "      <td>http://in.reuters.com/article/2014/03/10/eu-ba...</td>\n",
       "      <td>Reuters</td>\n",
       "      <td>b</td>\n",
       "      <td>d_yCfTJxDUFGs_MQrL1DnBRuBd_eM</td>\n",
       "      <td>in.reuters.com</td>\n",
       "      <td>1394470501755\\n</td>\n",
       "    </tr>\n",
       "    <tr>\n",
       "      <th>freq</th>\n",
       "      <td>2</td>\n",
       "      <td>1</td>\n",
       "      <td>3795</td>\n",
       "      <td>5523</td>\n",
       "      <td>30</td>\n",
       "      <td>2502</td>\n",
       "      <td>1</td>\n",
       "    </tr>\n",
       "  </tbody>\n",
       "</table>\n",
       "</div>"
      ],
      "text/plain": [
       "                                                    TITLE  \\\n",
       "count                                               13113   \n",
       "unique                                              13104   \n",
       "top     From IPO To Rental Boyfriends: Everything You ...   \n",
       "freq                                                    2   \n",
       "\n",
       "                                                      URL PUBLISHER CATEGORY  \\\n",
       "count                                               13113     13113    13113   \n",
       "unique                                              13113         5        4   \n",
       "top     http://in.reuters.com/article/2014/03/10/eu-ba...   Reuters        b   \n",
       "freq                                                    1      3795     5523   \n",
       "\n",
       "                                STORY        HOSTNAME        TIMESTAMP  \n",
       "count                           13113           13113            13113  \n",
       "unique                           4527               6            13113  \n",
       "top     d_yCfTJxDUFGs_MQrL1DnBRuBd_eM  in.reuters.com  1394470501755\\n  \n",
       "freq                               30            2502                1  "
      ]
     },
     "execution_count": 5,
     "metadata": {},
     "output_type": "execute_result"
    }
   ],
   "source": [
    "# remove duplicate\n",
    "new_df = new_df.drop_duplicates(subset=['TITLE', 'CATEGORY'])\n",
    "new_df.describe()"
   ]
  },
  {
   "cell_type": "code",
   "execution_count": 6,
   "metadata": {},
   "outputs": [
    {
     "name": "stdout",
     "output_type": "stream",
     "text": [
      "t :: From IPO To Rental Boyfriends: Everything You Need To Know About China's  ...\n",
      "t :: Google Will Deliver All The Costco Groceries You Want For $5\n",
      "t :: Sunday Roundup\n",
      "e :: UPDATE 1-New York Times publisher denies sexism, calls Abramson bad  ...\n",
      "e :: Jill Abramson Backs Out Of Brandeis Commencement Ceremony, Will Still  ...\n",
      "m :: Angelina Jolie Effect: Doctors warn over worrying rise in double mastectomies\n",
      "e :: US STOCKS-Futures drop as Iraq turmoil continues\n",
      "t :: Same engineer designed switches on 5.95 million recalled GM cars\n",
      "t :: UPDATE 2-Twitter names former Goldman executive Noto as CFO\n"
     ]
    }
   ],
   "source": [
    "for record in new_df[new_df.duplicated(subset=['TITLE'])][['TITLE', 'CATEGORY']].to_dict(orient='records'):\n",
    "    print(f'{record[\"CATEGORY\"]} :: {record[\"TITLE\"]}')"
   ]
  },
  {
   "cell_type": "code",
   "execution_count": 7,
   "metadata": {},
   "outputs": [
    {
     "name": "stderr",
     "output_type": "stream",
     "text": [
      "/var/folders/nf/pmn5d2jd3w91g8jm5b1rst7h0000gn/T/ipykernel_5293/2674651943.py:1: UserWarning: Boolean Series key will be reindexed to match DataFrame index.\n",
      "  new_df[df['TITLE'] == \"Jill Abramson Backs Out Of Brandeis Commencement Ceremony, Will Still  ...\"][['TITLE', 'CATEGORY']].to_dict(orient='records')\n"
     ]
    },
    {
     "data": {
      "text/plain": [
       "[{'TITLE': 'Jill Abramson Backs Out Of Brandeis Commencement Ceremony, Will Still  ...',\n",
       "  'CATEGORY': 'b'},\n",
       " {'TITLE': 'Jill Abramson Backs Out Of Brandeis Commencement Ceremony, Will Still  ...',\n",
       "  'CATEGORY': 'e'}]"
      ]
     },
     "execution_count": 7,
     "metadata": {},
     "output_type": "execute_result"
    }
   ],
   "source": [
    "new_df[df['TITLE'] == \"Jill Abramson Backs Out Of Brandeis Commencement Ceremony, Will Still  ...\"][['TITLE', 'CATEGORY']].to_dict(orient='records')"
   ]
  },
  {
   "cell_type": "code",
   "execution_count": 8,
   "metadata": {},
   "outputs": [],
   "source": [
    "remove_list = [\n",
    "    {'TITLE': \"From IPO To Rental Boyfriends: Everything You Need To Know About China's  ...\", 'CATEGORY': 't'},\n",
    "    {'TITLE': 'Google Will Deliver All The Costco Groceries You Want For $5', 'CATEGORY': 't'},\n",
    "    {'TITLE': 'Sunday Roundup', 'CATEGORY': 't'},\n",
    "    {'TITLE': 'UPDATE 1-New York Times publisher denies sexism, calls Abramson bad  ...', 'CATEGORY': 'b'},\n",
    "    {'TITLE': 'Jill Abramson Backs Out Of Brandeis Commencement Ceremony, Will Still  ...', 'CATEGORY': 'b'},\n",
    "    {'TITLE': 'Angelina Jolie Effect: Doctors warn over worrying rise in double mastectomies', 'CATEGORY': 'e'},\n",
    "    {'TITLE': 'US STOCKS-Futures drop as Iraq turmoil continues', 'CATEGORY': 'e'},\n",
    "    {'TITLE': 'Same engineer designed switches on 5.95 million recalled GM cars', 'CATEGORY': 'b'},\n",
    "    {'TITLE': 'UPDATE 2-Twitter names former Goldman executive Noto as CFO', 'CATEGORY': 't'}\n",
    "]\n",
    "\n",
    "def check(row: pd.Series) -> bool:\n",
    "    for record in remove_list:\n",
    "        if (record['TITLE'] == row['TITLE']) and (record['CATEGORY'] == row['CATEGORY']):\n",
    "            return False\n",
    "    return True"
   ]
  },
  {
   "cell_type": "code",
   "execution_count": 9,
   "metadata": {},
   "outputs": [
    {
     "data": {
      "text/html": [
       "<div>\n",
       "<style scoped>\n",
       "    .dataframe tbody tr th:only-of-type {\n",
       "        vertical-align: middle;\n",
       "    }\n",
       "\n",
       "    .dataframe tbody tr th {\n",
       "        vertical-align: top;\n",
       "    }\n",
       "\n",
       "    .dataframe thead th {\n",
       "        text-align: right;\n",
       "    }\n",
       "</style>\n",
       "<table border=\"1\" class=\"dataframe\">\n",
       "  <thead>\n",
       "    <tr style=\"text-align: right;\">\n",
       "      <th></th>\n",
       "      <th>TITLE</th>\n",
       "      <th>URL</th>\n",
       "      <th>PUBLISHER</th>\n",
       "      <th>CATEGORY</th>\n",
       "      <th>STORY</th>\n",
       "      <th>HOSTNAME</th>\n",
       "      <th>TIMESTAMP</th>\n",
       "    </tr>\n",
       "  </thead>\n",
       "  <tbody>\n",
       "    <tr>\n",
       "      <th>count</th>\n",
       "      <td>13104</td>\n",
       "      <td>13104</td>\n",
       "      <td>13104</td>\n",
       "      <td>13104</td>\n",
       "      <td>13104</td>\n",
       "      <td>13104</td>\n",
       "      <td>13104</td>\n",
       "    </tr>\n",
       "    <tr>\n",
       "      <th>unique</th>\n",
       "      <td>13104</td>\n",
       "      <td>13104</td>\n",
       "      <td>5</td>\n",
       "      <td>4</td>\n",
       "      <td>4526</td>\n",
       "      <td>6</td>\n",
       "      <td>13104</td>\n",
       "    </tr>\n",
       "    <tr>\n",
       "      <th>top</th>\n",
       "      <td>Europe reaches crunch point on banking union</td>\n",
       "      <td>http://in.reuters.com/article/2014/03/10/eu-ba...</td>\n",
       "      <td>Reuters</td>\n",
       "      <td>b</td>\n",
       "      <td>d_yCfTJxDUFGs_MQrL1DnBRuBd_eM</td>\n",
       "      <td>in.reuters.com</td>\n",
       "      <td>1394470501755\\n</td>\n",
       "    </tr>\n",
       "    <tr>\n",
       "      <th>freq</th>\n",
       "      <td>1</td>\n",
       "      <td>1</td>\n",
       "      <td>3791</td>\n",
       "      <td>5520</td>\n",
       "      <td>30</td>\n",
       "      <td>2501</td>\n",
       "      <td>1</td>\n",
       "    </tr>\n",
       "  </tbody>\n",
       "</table>\n",
       "</div>"
      ],
      "text/plain": [
       "                                               TITLE  \\\n",
       "count                                          13104   \n",
       "unique                                         13104   \n",
       "top     Europe reaches crunch point on banking union   \n",
       "freq                                               1   \n",
       "\n",
       "                                                      URL PUBLISHER CATEGORY  \\\n",
       "count                                               13104     13104    13104   \n",
       "unique                                              13104         5        4   \n",
       "top     http://in.reuters.com/article/2014/03/10/eu-ba...   Reuters        b   \n",
       "freq                                                    1      3791     5520   \n",
       "\n",
       "                                STORY        HOSTNAME        TIMESTAMP  \n",
       "count                           13104           13104            13104  \n",
       "unique                           4526               6            13104  \n",
       "top     d_yCfTJxDUFGs_MQrL1DnBRuBd_eM  in.reuters.com  1394470501755\\n  \n",
       "freq                               30            2501                1  "
      ]
     },
     "execution_count": 9,
     "metadata": {},
     "output_type": "execute_result"
    }
   ],
   "source": [
    "new_df = new_df[new_df.apply(lambda row: check(row), axis=1)]\n",
    "new_df.describe()"
   ]
  },
  {
   "cell_type": "markdown",
   "metadata": {},
   "source": [
    "## Train, Val, Test Split"
   ]
  },
  {
   "cell_type": "code",
   "execution_count": 10,
   "metadata": {},
   "outputs": [],
   "source": [
    "from sklearn.model_selection import train_test_split\n",
    "\n",
    "# stratify sampling\n",
    "train_df, test_df = train_test_split(new_df, test_size=0.1, random_state=42, stratify=new_df[['CATEGORY']])\n",
    "train_df, val_df = train_test_split(train_df, test_size=0.1, random_state=42, stratify=train_df[['CATEGORY']])"
   ]
  },
  {
   "cell_type": "code",
   "execution_count": 11,
   "metadata": {},
   "outputs": [],
   "source": [
    "# new_df = new_df.sample(frac=1, random_state=42)[['TITLE', 'CATEGORY']]\n",
    "# df_len = len(new_df)\n",
    "# train_df, val_df, test_df = new_df[:int(0.8*df_len)], new_df[int(0.8*df_len):int(0.9*df_len)], new_df[int(0.9*df_len):]"
   ]
  },
  {
   "cell_type": "markdown",
   "metadata": {},
   "source": [
    "## Save"
   ]
  },
  {
   "cell_type": "code",
   "execution_count": 12,
   "metadata": {},
   "outputs": [],
   "source": [
    "category_mapping = {'b': 'business', 't': 'science_and_technology', 'e': 'entertainment', 'm': 'health'}"
   ]
  },
  {
   "cell_type": "code",
   "execution_count": 13,
   "metadata": {},
   "outputs": [],
   "source": [
    "def write(df: pd.DataFrame, path: str) -> None:\n",
    "    records = df.to_dict(orient='records')\n",
    "    with open(path, \"w\") as file:\n",
    "        for record in records:\n",
    "            file.write(\"\\t\".join([record['TITLE'], category_mapping[record['CATEGORY']]]) + '\\n')\n",
    "\n",
    "write(train_df, 'data/train.txt')\n",
    "write(val_df, 'data/valid.txt')\n",
    "write(test_df, 'data/test.txt')"
   ]
  },
  {
   "cell_type": "code",
   "execution_count": null,
   "metadata": {},
   "outputs": [],
   "source": []
  },
  {
   "cell_type": "code",
   "execution_count": null,
   "metadata": {},
   "outputs": [],
   "source": []
  }
 ],
 "metadata": {
  "kernelspec": {
   "display_name": ".venv",
   "language": "python",
   "name": "python3"
  },
  "language_info": {
   "codemirror_mode": {
    "name": "ipython",
    "version": 3
   },
   "file_extension": ".py",
   "mimetype": "text/x-python",
   "name": "python",
   "nbconvert_exporter": "python",
   "pygments_lexer": "ipython3",
   "version": "3.9.12"
  }
 },
 "nbformat": 4,
 "nbformat_minor": 2
}
